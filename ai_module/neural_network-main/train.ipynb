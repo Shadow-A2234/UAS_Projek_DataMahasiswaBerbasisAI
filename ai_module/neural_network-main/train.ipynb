{
 "cells": [
  {
   "cell_type": "code",
   "execution_count": 3,
   "metadata": {},
   "outputs": [],
   "source": [
    "import network\n",
    "import mnist_loader"
   ]
  },
  {
   "cell_type": "code",
   "execution_count": 4,
   "metadata": {},
   "outputs": [],
   "source": [
    "# create a network\n",
    "net = network.Network([784, 16, 16, 10])"
   ]
  },
  {
   "cell_type": "code",
   "execution_count": 5,
   "metadata": {},
   "outputs": [],
   "source": [
    "# load the data\n",
    "training_data, validation_data, test_data = mnist_loader.load_data_wrapper()"
   ]
  },
  {
   "cell_type": "code",
   "execution_count": 6,
   "metadata": {},
   "outputs": [
    {
     "name": "stdout",
     "output_type": "stream",
     "text": [
      "Epoch 0: 8814 / 10000\n",
      "Epoch 1: 9125 / 10000\n",
      "Epoch 2: 9101 / 10000\n",
      "Epoch 3: 9163 / 10000\n",
      "Epoch 4: 9174 / 10000\n",
      "Epoch 5: 9242 / 10000\n",
      "Epoch 6: 9217 / 10000\n",
      "Epoch 7: 9177 / 10000\n",
      "Epoch 8: 9261 / 10000\n",
      "Epoch 9: 9327 / 10000\n",
      "Epoch 10: 9260 / 10000\n",
      "Epoch 11: 9294 / 10000\n",
      "Epoch 12: 9303 / 10000\n",
      "Epoch 13: 9278 / 10000\n",
      "Epoch 14: 9327 / 10000\n",
      "Epoch 15: 9238 / 10000\n",
      "Epoch 16: 9286 / 10000\n",
      "Epoch 17: 9373 / 10000\n",
      "Epoch 18: 9279 / 10000\n",
      "Epoch 19: 9360 / 10000\n",
      "Epoch 20: 9322 / 10000\n",
      "Epoch 21: 9317 / 10000\n",
      "Epoch 22: 9347 / 10000\n",
      "Epoch 23: 9314 / 10000\n",
      "Epoch 24: 9353 / 10000\n",
      "Epoch 25: 9338 / 10000\n",
      "Epoch 26: 9346 / 10000\n",
      "Epoch 27: 9397 / 10000\n",
      "Epoch 28: 9189 / 10000\n",
      "Epoch 29: 9347 / 10000\n"
     ]
    }
   ],
   "source": [
    "# train the network\n",
    "net.train(training_data, epochs=30, mini_batch_size=10, eta=3.0, test_data=test_data)"
   ]
  },
  {
   "cell_type": "code",
   "execution_count": 7,
   "metadata": {},
   "outputs": [],
   "source": [
    "# Save the trained model\n",
    "net.save(\"trained_network.pkl\")"
   ]
  },
  {
   "cell_type": "code",
   "execution_count": null,
   "metadata": {},
   "outputs": [],
   "source": []
  }
 ],
 "metadata": {
  "kernelspec": {
   "display_name": "venv",
   "language": "python",
   "name": "python3"
  },
  "language_info": {
   "codemirror_mode": {
    "name": "ipython",
    "version": 3
   },
   "file_extension": ".py",
   "mimetype": "text/x-python",
   "name": "python",
   "nbconvert_exporter": "python",
   "pygments_lexer": "ipython3",
   "version": "3.10.0"
  }
 },
 "nbformat": 4,
 "nbformat_minor": 4
}
